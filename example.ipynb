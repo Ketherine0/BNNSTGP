{
 "cells": [
  {
   "cell_type": "code",
   "execution_count": 2,
   "id": "6ab309d2-83ed-4fbb-82b2-fd0e159e3e0e",
   "metadata": {},
   "outputs": [
    {
     "name": "stderr",
     "output_type": "stream",
     "text": [
      "/home/ellahe/.conda/envs/bnnstgp/lib/python3.9/site-packages/tqdm/auto.py:22: TqdmWarning: IProgress not found. Please update jupyter and ipywidgets. See https://ipywidgets.readthedocs.io/en/stable/user_install.html\n",
      "  from .autonotebook import tqdm as notebook_tqdm\n"
     ]
    }
   ],
   "source": [
    "# from ex_bnnstgp import BNN_model\n",
    "import pandas as pd\n",
    "import h5py\n",
    "import numpy as np\n",
    "import torch"
   ]
  },
  {
   "cell_type": "markdown",
   "id": "f9397211-b4ad-487b-990c-a144a02fd057",
   "metadata": {},
   "source": [
    "## Install package"
   ]
  },
  {
   "cell_type": "code",
   "execution_count": 1,
   "id": "91aac170-6f6b-4ae4-89df-91116d3add51",
   "metadata": {},
   "outputs": [
    {
     "name": "stdout",
     "output_type": "stream",
     "text": [
      "Looking in indexes: https://test.pypi.org/simple/\n",
      "Requirement already satisfied: pkg-bnnstgp1 in /home/ellahe/BNNSTGP-main/src/notebook/package_bnnstgp1 (0.1.5)\n",
      "Requirement already satisfied: ipython>=6 in /home/ellahe/.conda/envs/bnnstgp/lib/python3.9/site-packages (from pkg-bnnstgp1) (8.4.0)\n",
      "Requirement already satisfied: nbformat>=4 in /home/ellahe/.conda/envs/bnnstgp/lib/python3.9/site-packages (from pkg-bnnstgp1) (5.5.0)\n",
      "Requirement already satisfied: nbconvert>=5 in /home/ellahe/.conda/envs/bnnstgp/lib/python3.9/site-packages (from pkg-bnnstgp1) (6.4.4)\n",
      "Requirement already satisfied: requests>=2 in /home/ellahe/.conda/envs/bnnstgp/lib/python3.9/site-packages (from pkg-bnnstgp1) (2.28.1)\n",
      "Requirement already satisfied: rpy2>=3.5.5 in /home/ellahe/.conda/envs/bnnstgp/lib/python3.9/site-packages (from pkg-bnnstgp1) (3.5.5)\n",
      "Requirement already satisfied: torch>=1.9.0 in /home/ellahe/.local/lib/python3.9/site-packages (from pkg-bnnstgp1) (1.9.0)\n",
      "Requirement already satisfied: SimpleITK>=2.2.0 in /home/ellahe/.conda/envs/bnnstgp/lib/python3.9/site-packages (from pkg-bnnstgp1) (2.2.0)\n",
      "Requirement already satisfied: nibabel>=5.0.0 in /home/ellahe/.local/lib/python3.9/site-packages (from pkg-bnnstgp1) (5.0.0)\n",
      "Requirement already satisfied: scipy>=1.7.1 in /home/ellahe/.conda/envs/bnnstgp/lib/python3.9/site-packages (from pkg-bnnstgp1) (1.7.1)\n",
      "Requirement already satisfied: tqdm>=4.64.1 in /home/ellahe/.conda/envs/bnnstgp/lib/python3.9/site-packages (from pkg-bnnstgp1) (4.64.1)\n",
      "Requirement already satisfied: scikit-learn>=1.2.1 in /home/ellahe/.local/lib/python3.9/site-packages (from pkg-bnnstgp1) (1.2.1)\n",
      "Requirement already satisfied: pygments>=2.4.0 in /home/ellahe/.conda/envs/bnnstgp/lib/python3.9/site-packages (from ipython>=6->pkg-bnnstgp1) (2.11.2)\n",
      "Requirement already satisfied: prompt-toolkit!=3.0.0,!=3.0.1,<3.1.0,>=2.0.0 in /home/ellahe/.conda/envs/bnnstgp/lib/python3.9/site-packages (from ipython>=6->pkg-bnnstgp1) (3.0.20)\n",
      "Requirement already satisfied: jedi>=0.16 in /home/ellahe/.conda/envs/bnnstgp/lib/python3.9/site-packages (from ipython>=6->pkg-bnnstgp1) (0.18.1)\n",
      "Requirement already satisfied: pickleshare in /home/ellahe/.conda/envs/bnnstgp/lib/python3.9/site-packages (from ipython>=6->pkg-bnnstgp1) (0.7.5)\n",
      "Requirement already satisfied: backcall in /home/ellahe/.conda/envs/bnnstgp/lib/python3.9/site-packages (from ipython>=6->pkg-bnnstgp1) (0.2.0)\n",
      "Requirement already satisfied: matplotlib-inline in /home/ellahe/.conda/envs/bnnstgp/lib/python3.9/site-packages (from ipython>=6->pkg-bnnstgp1) (0.1.6)\n",
      "Requirement already satisfied: traitlets>=5 in /home/ellahe/.conda/envs/bnnstgp/lib/python3.9/site-packages (from ipython>=6->pkg-bnnstgp1) (5.1.1)\n",
      "Requirement already satisfied: setuptools>=18.5 in /home/ellahe/.conda/envs/bnnstgp/lib/python3.9/site-packages (from ipython>=6->pkg-bnnstgp1) (63.4.1)\n",
      "Requirement already satisfied: pexpect>4.3; sys_platform != \"win32\" in /home/ellahe/.conda/envs/bnnstgp/lib/python3.9/site-packages (from ipython>=6->pkg-bnnstgp1) (4.8.0)\n",
      "Requirement already satisfied: stack-data in /home/ellahe/.conda/envs/bnnstgp/lib/python3.9/site-packages (from ipython>=6->pkg-bnnstgp1) (0.2.0)\n",
      "Requirement already satisfied: decorator in /home/ellahe/.conda/envs/bnnstgp/lib/python3.9/site-packages (from ipython>=6->pkg-bnnstgp1) (5.1.1)\n",
      "Requirement already satisfied: fastjsonschema in /home/ellahe/.conda/envs/bnnstgp/lib/python3.9/site-packages (from nbformat>=4->pkg-bnnstgp1) (2.16.2)\n",
      "Requirement already satisfied: jupyter_core in /home/ellahe/.conda/envs/bnnstgp/lib/python3.9/site-packages (from nbformat>=4->pkg-bnnstgp1) (4.11.1)\n",
      "Requirement already satisfied: jsonschema>=2.6 in /home/ellahe/.conda/envs/bnnstgp/lib/python3.9/site-packages (from nbformat>=4->pkg-bnnstgp1) (4.16.0)\n",
      "Requirement already satisfied: beautifulsoup4 in /home/ellahe/.conda/envs/bnnstgp/lib/python3.9/site-packages (from nbconvert>=5->pkg-bnnstgp1) (4.11.1)\n",
      "Requirement already satisfied: entrypoints>=0.2.2 in /home/ellahe/.conda/envs/bnnstgp/lib/python3.9/site-packages (from nbconvert>=5->pkg-bnnstgp1) (0.4)\n",
      "Requirement already satisfied: mistune<2,>=0.8.1 in /home/ellahe/.conda/envs/bnnstgp/lib/python3.9/site-packages (from nbconvert>=5->pkg-bnnstgp1) (0.8.4)\n",
      "Requirement already satisfied: bleach in /home/ellahe/.conda/envs/bnnstgp/lib/python3.9/site-packages (from nbconvert>=5->pkg-bnnstgp1) (4.1.0)\n",
      "Requirement already satisfied: defusedxml in /home/ellahe/.conda/envs/bnnstgp/lib/python3.9/site-packages (from nbconvert>=5->pkg-bnnstgp1) (0.7.1)\n",
      "Requirement already satisfied: jinja2>=2.4 in /home/ellahe/.conda/envs/bnnstgp/lib/python3.9/site-packages (from nbconvert>=5->pkg-bnnstgp1) (3.1.2)\n",
      "Requirement already satisfied: pandocfilters>=1.4.1 in /home/ellahe/.conda/envs/bnnstgp/lib/python3.9/site-packages (from nbconvert>=5->pkg-bnnstgp1) (1.5.0)\n",
      "Requirement already satisfied: nbclient<0.6.0,>=0.5.0 in /home/ellahe/.conda/envs/bnnstgp/lib/python3.9/site-packages (from nbconvert>=5->pkg-bnnstgp1) (0.5.13)\n",
      "Requirement already satisfied: jupyterlab-pygments in /home/ellahe/.conda/envs/bnnstgp/lib/python3.9/site-packages (from nbconvert>=5->pkg-bnnstgp1) (0.1.2)\n",
      "Requirement already satisfied: testpath in /home/ellahe/.conda/envs/bnnstgp/lib/python3.9/site-packages (from nbconvert>=5->pkg-bnnstgp1) (0.6.0)\n",
      "Requirement already satisfied: charset-normalizer<3,>=2 in /home/ellahe/.conda/envs/bnnstgp/lib/python3.9/site-packages (from requests>=2->pkg-bnnstgp1) (2.1.1)\n",
      "Requirement already satisfied: idna<4,>=2.5 in /home/ellahe/.conda/envs/bnnstgp/lib/python3.9/site-packages (from requests>=2->pkg-bnnstgp1) (3.4)\n",
      "Requirement already satisfied: urllib3<1.27,>=1.21.1 in /home/ellahe/.conda/envs/bnnstgp/lib/python3.9/site-packages (from requests>=2->pkg-bnnstgp1) (1.26.12)\n",
      "Requirement already satisfied: certifi>=2017.4.17 in /home/ellahe/.conda/envs/bnnstgp/lib/python3.9/site-packages (from requests>=2->pkg-bnnstgp1) (2022.9.24)\n",
      "Requirement already satisfied: cffi>=1.10.0 in /home/ellahe/.conda/envs/bnnstgp/lib/python3.9/site-packages (from rpy2>=3.5.5->pkg-bnnstgp1) (1.15.1)\n",
      "Requirement already satisfied: pytz in /home/ellahe/.conda/envs/bnnstgp/lib/python3.9/site-packages (from rpy2>=3.5.5->pkg-bnnstgp1) (2022.1)\n",
      "Requirement already satisfied: tzlocal in /home/ellahe/.conda/envs/bnnstgp/lib/python3.9/site-packages (from rpy2>=3.5.5->pkg-bnnstgp1) (4.2)\n",
      "Requirement already satisfied: typing-extensions in /home/ellahe/.conda/envs/bnnstgp/lib/python3.9/site-packages (from torch>=1.9.0->pkg-bnnstgp1) (4.5.0)\n",
      "Requirement already satisfied: packaging>=17 in /home/ellahe/.conda/envs/bnnstgp/lib/python3.9/site-packages (from nibabel>=5.0.0->pkg-bnnstgp1) (21.3)\n",
      "Requirement already satisfied: numpy>=1.19 in /home/ellahe/.local/lib/python3.9/site-packages (from nibabel>=5.0.0->pkg-bnnstgp1) (1.22.4)\n",
      "Requirement already satisfied: joblib>=1.1.1 in /home/ellahe/.local/lib/python3.9/site-packages (from scikit-learn>=1.2.1->pkg-bnnstgp1) (1.2.0)\n",
      "Requirement already satisfied: threadpoolctl>=2.0.0 in /home/ellahe/.conda/envs/bnnstgp/lib/python3.9/site-packages (from scikit-learn>=1.2.1->pkg-bnnstgp1) (2.2.0)\n",
      "Requirement already satisfied: wcwidth in /home/ellahe/.conda/envs/bnnstgp/lib/python3.9/site-packages (from prompt-toolkit!=3.0.0,!=3.0.1,<3.1.0,>=2.0.0->ipython>=6->pkg-bnnstgp1) (0.2.5)\n",
      "Requirement already satisfied: parso<0.9.0,>=0.8.0 in /home/ellahe/.conda/envs/bnnstgp/lib/python3.9/site-packages (from jedi>=0.16->ipython>=6->pkg-bnnstgp1) (0.8.3)\n",
      "Requirement already satisfied: ptyprocess>=0.5 in /home/ellahe/.conda/envs/bnnstgp/lib/python3.9/site-packages (from pexpect>4.3; sys_platform != \"win32\"->ipython>=6->pkg-bnnstgp1) (0.7.0)\n",
      "Requirement already satisfied: executing in /home/ellahe/.conda/envs/bnnstgp/lib/python3.9/site-packages (from stack-data->ipython>=6->pkg-bnnstgp1) (0.8.3)\n",
      "Requirement already satisfied: asttokens in /home/ellahe/.conda/envs/bnnstgp/lib/python3.9/site-packages (from stack-data->ipython>=6->pkg-bnnstgp1) (2.0.5)\n",
      "Requirement already satisfied: pure-eval in /home/ellahe/.conda/envs/bnnstgp/lib/python3.9/site-packages (from stack-data->ipython>=6->pkg-bnnstgp1) (0.2.2)\n",
      "Requirement already satisfied: attrs>=17.4.0 in /home/ellahe/.conda/envs/bnnstgp/lib/python3.9/site-packages (from jsonschema>=2.6->nbformat>=4->pkg-bnnstgp1) (21.4.0)\n",
      "Requirement already satisfied: pyrsistent!=0.17.0,!=0.17.1,!=0.17.2,>=0.14.0 in /home/ellahe/.conda/envs/bnnstgp/lib/python3.9/site-packages (from jsonschema>=2.6->nbformat>=4->pkg-bnnstgp1) (0.18.0)\n",
      "Requirement already satisfied: soupsieve>1.2 in /home/ellahe/.conda/envs/bnnstgp/lib/python3.9/site-packages (from beautifulsoup4->nbconvert>=5->pkg-bnnstgp1) (2.3.2.post1)\n",
      "Requirement already satisfied: six>=1.9.0 in /home/ellahe/.conda/envs/bnnstgp/lib/python3.9/site-packages (from bleach->nbconvert>=5->pkg-bnnstgp1) (1.16.0)\n",
      "Requirement already satisfied: webencodings in /home/ellahe/.conda/envs/bnnstgp/lib/python3.9/site-packages (from bleach->nbconvert>=5->pkg-bnnstgp1) (0.5.1)\n",
      "Requirement already satisfied: MarkupSafe>=2.0 in /home/ellahe/.conda/envs/bnnstgp/lib/python3.9/site-packages (from jinja2>=2.4->nbconvert>=5->pkg-bnnstgp1) (2.1.1)\n",
      "Requirement already satisfied: nest-asyncio in /home/ellahe/.conda/envs/bnnstgp/lib/python3.9/site-packages (from nbclient<0.6.0,>=0.5.0->nbconvert>=5->pkg-bnnstgp1) (1.5.5)\n",
      "Requirement already satisfied: jupyter-client>=6.1.5 in /home/ellahe/.conda/envs/bnnstgp/lib/python3.9/site-packages (from nbclient<0.6.0,>=0.5.0->nbconvert>=5->pkg-bnnstgp1) (7.3.5)\n",
      "Requirement already satisfied: pycparser in /home/ellahe/.conda/envs/bnnstgp/lib/python3.9/site-packages (from cffi>=1.10.0->rpy2>=3.5.5->pkg-bnnstgp1) (2.21)\n",
      "Requirement already satisfied: pytz-deprecation-shim in /home/ellahe/.conda/envs/bnnstgp/lib/python3.9/site-packages (from tzlocal->rpy2>=3.5.5->pkg-bnnstgp1) (0.1.0.post0)\n",
      "Requirement already satisfied: pyparsing!=3.0.5,>=2.0.2 in /home/ellahe/.conda/envs/bnnstgp/lib/python3.9/site-packages (from packaging>=17->nibabel>=5.0.0->pkg-bnnstgp1) (3.0.9)\n",
      "Requirement already satisfied: python-dateutil>=2.8.2 in /home/ellahe/.conda/envs/bnnstgp/lib/python3.9/site-packages (from jupyter-client>=6.1.5->nbclient<0.6.0,>=0.5.0->nbconvert>=5->pkg-bnnstgp1) (2.8.2)\n",
      "Requirement already satisfied: pyzmq>=23.0 in /home/ellahe/.conda/envs/bnnstgp/lib/python3.9/site-packages (from jupyter-client>=6.1.5->nbclient<0.6.0,>=0.5.0->nbconvert>=5->pkg-bnnstgp1) (23.2.0)\n",
      "Requirement already satisfied: tornado>=6.2 in /home/ellahe/.conda/envs/bnnstgp/lib/python3.9/site-packages (from jupyter-client>=6.1.5->nbclient<0.6.0,>=0.5.0->nbconvert>=5->pkg-bnnstgp1) (6.2)\n",
      "Requirement already satisfied: tzdata; python_version >= \"3.6\" in /home/ellahe/.conda/envs/bnnstgp/lib/python3.9/site-packages (from pytz-deprecation-shim->tzlocal->rpy2>=3.5.5->pkg-bnnstgp1) (2022.5)\n",
      "Note: you may need to restart the kernel to use updated packages.\n"
     ]
    }
   ],
   "source": [
    "pip install -i https://test.pypi.org/simple/ pkg-bnnstgp1"
   ]
  },
  {
   "cell_type": "code",
   "execution_count": 3,
   "id": "8188a01f-5288-4c51-81ec-da62c1889926",
   "metadata": {},
   "outputs": [
    {
     "name": "stdout",
     "output_type": "stream",
     "text": [
      "Start\n",
      "using CPU\n"
     ]
    }
   ],
   "source": [
    "from pkg_bnnstgp1.pkg_bnnstgp import BNN_model"
   ]
  },
  {
   "cell_type": "markdown",
   "id": "a9e1514c-b75b-416f-afe9-a7eb7f22b89d",
   "metadata": {},
   "source": [
    "## Loading Data"
   ]
  },
  {
   "cell_type": "code",
   "execution_count": 4,
   "id": "865f3fb6-9e2e-4fcc-9a4e-3c94b4030870",
   "metadata": {},
   "outputs": [],
   "source": [
    "Y = pd.read_csv(\"/nfs/turbo/jiankanggroup/ellahe/y1.csv\").iloc[:,1].values\n",
    "idx = np.invert(np.isnan(Y))\n",
    "Y = Y[idx]\n",
    "\n",
    "hf = h5py.File('/nfs/turbo/jiankanggroup/ellahe/image1.hdf5', 'r')\n",
    "img1 = hf.get('img')['img1'][()][idx,:]\n",
    "# img2 = hf.get('img')['img2'][()][idx,:]\n",
    "\n",
    "h2 = h5py.File('/nfs/turbo/jiankanggroup/ellahe/coord1.hdf5', 'r')\n",
    "coord1 = h2.get('coord')['coord1'][()]\n",
    "# coord2 = h2.get('coord')['coord2'][()]\n",
    "\n",
    "hf = h5py.File('/nfs/turbo/jiankanggroup/ellahe/image_fMRI2.hdf5', 'r')\n",
    "img2 = hf.get('img')['img_fMRI'][()][idx,:]\n",
    "\n",
    "h2 = h5py.File('/nfs/turbo/jiankanggroup/ellahe/coord_fMRI2.hdf5', 'r')\n",
    "coord2 = h2.get('coord')['coord_fMRI'][()]\n",
    "\n",
    "coord = [coord1, coord2]\n",
    "img_data = [img1, img2]"
   ]
  },
  {
   "cell_type": "code",
   "execution_count": 5,
   "id": "63c8286e-1175-4baf-ad82-5d60c4f3c6c0",
   "metadata": {},
   "outputs": [],
   "source": [
    "BNN_neuroimg = BNN_model(coord=coord, imgs=img_data, cov=np.zeros((img_data[0].shape[0],1)),\n",
    "                         Y=Y,rep=20,a=0.01,b=100, poly_degree=18, N_saves=70,\n",
    "                         lamb=10,n_hid=128, n_hid2=16, lr=3e-3,path=\"/nfs/turbo/jiankanggroup/ellahe/multi_test_resize\",nb_layer=2, n_epochs=151,\n",
    "                        thred = 0.5, bg_image = \"../data/neuroimaging/AAL_MNI_2mm.nii\", batch_size=128,\n",
    "                        nii_path = 'model_sig_nii/select_region_unit', n_img=len(img_data),\n",
    "                        device='cuda' if torch.cuda.is_available() else 'cpu')"
   ]
  },
  {
   "cell_type": "markdown",
   "id": "345b8308-10a1-4fd9-92fd-4256df075709",
   "metadata": {},
   "source": [
    "## Data preprocessing"
   ]
  },
  {
   "cell_type": "code",
   "execution_count": 5,
   "id": "a5c46756-836e-44c5-9e32-e58d30c59281",
   "metadata": {},
   "outputs": [],
   "source": [
    "BNN_neuroimg.load_data()"
   ]
  },
  {
   "cell_type": "markdown",
   "id": "b4b1760a-deb3-4005-97f4-81279c6034c7",
   "metadata": {},
   "source": [
    "## Model training"
   ]
  },
  {
   "cell_type": "markdown",
   "id": "98b474db-5c20-4b70-b1d5-50a9a9e187d7",
   "metadata": {},
   "source": [
    "Prespesified for traning 150 epochs"
   ]
  },
  {
   "cell_type": "code",
   "execution_count": null,
   "id": "0b4daebf-9872-486a-8ee8-785ef833e035",
   "metadata": {},
   "outputs": [
    {
     "name": "stdout",
     "output_type": "stream",
     "text": [
      "Epoch 0, train time 82.6955 s, train MSE 1449.7301, train R2 0.000\n",
      "  Epoch 0, test time 5.3566 s, test MSE 2.6474, test R2 0.020\n",
      "Epoch 10, train time 97.3050 s, train MSE 980.0188, train R2 0.117\n",
      "  Epoch 10, test time 5.5277 s, test MSE 2.5175, test R2 0.230\n",
      "Epoch 20, train time 95.5218 s, train MSE 675.8970, train R2 0.237\n",
      "  Epoch 20, test time 6.0616 s, test MSE 2.1076, test R2 0.291\n",
      "Epoch 30, train time 94.0446 s, train MSE 466.1326, train R2 0.362\n",
      "  Epoch 30, test time 5.9715 s, test MSE 1.9156, test R2 0.370\n",
      "Epoch 40, train time 84.9024 s, train MSE 323.4803, train R2 0.425\n",
      "  Epoch 40, test time 5.1118 s, test MSE 1.7593, test R2 0.465\n",
      "Epoch 50, train time 88.9694 s, train MSE 226.6432, train R2 0.478\n",
      "  Epoch 50, test time 5.6715 s, test MSE 1.6705, test R2 0.467\n"
     ]
    }
   ],
   "source": [
    "R2 = BNN_neuroimg.train_model() "
   ]
  },
  {
   "cell_type": "markdown",
   "id": "5a9f04f0-ac1f-49af-b5f3-2e81c5f8bfc8",
   "metadata": {},
   "source": [
    "## Calculate Coverage Ratio"
   ]
  },
  {
   "cell_type": "markdown",
   "id": "4e65ddb8-7424-4573-ae94-49417d412b09",
   "metadata": {},
   "source": [
    "The three parts calculating coverage ratio, beta fdr control, and region selection, can only be accessed once the model is trained completely and stored in our pre-specified directory"
   ]
  },
  {
   "cell_type": "code",
   "execution_count": null,
   "id": "2ba704d2-7f11-4383-9ca6-17aaa702022c",
   "metadata": {},
   "outputs": [],
   "source": [
    "BNN_neuroimg.beta_post()"
   ]
  },
  {
   "cell_type": "markdown",
   "id": "a17c552a-7d1e-4fd3-b76c-5180b49ff303",
   "metadata": {},
   "source": [
    "## Beta FDR control(used for next step's region selection)"
   ]
  },
  {
   "cell_type": "markdown",
   "id": "e7514a15-202b-463e-94da-2d5d4c8205ee",
   "metadata": {},
   "source": [
    "Used for next step's region selection"
   ]
  },
  {
   "cell_type": "code",
   "execution_count": 6,
   "id": "48998054-ecf4-4458-b413-9e82df6a6546",
   "metadata": {},
   "outputs": [
    {
     "name": "stdout",
     "output_type": "stream",
     "text": [
      "Reptition: 0\n"
     ]
    },
    {
     "ename": "KeyboardInterrupt",
     "evalue": "",
     "output_type": "error",
     "traceback": [
      "\u001b[0;31m---------------------------------------------------------------------------\u001b[0m",
      "\u001b[0;31mKeyboardInterrupt\u001b[0m                         Traceback (most recent call last)",
      "Input \u001b[0;32mIn [6]\u001b[0m, in \u001b[0;36m<cell line: 1>\u001b[0;34m()\u001b[0m\n\u001b[0;32m----> 1\u001b[0m \u001b[43mBNN_neuroimg\u001b[49m\u001b[38;5;241;43m.\u001b[39;49m\u001b[43mbeta_fdr_control\u001b[49m\u001b[43m(\u001b[49m\u001b[43m)\u001b[49m\n",
      "File \u001b[0;32m~/BNNSTGP-main/src/notebook/package_bnnstgp1/pkg_bnnstgp1/pkg_bnnstgp.py:180\u001b[0m, in \u001b[0;36mBNN_model.beta_fdr_control\u001b[0;34m(self)\u001b[0m\n\u001b[1;32m    178\u001b[0m \u001b[38;5;28mself\u001b[39m\u001b[38;5;241m.\u001b[39mbeta_all \u001b[38;5;241m=\u001b[39m []\n\u001b[1;32m    179\u001b[0m \u001b[38;5;28;01mfor\u001b[39;00m i \u001b[38;5;129;01min\u001b[39;00m \u001b[38;5;28mrange\u001b[39m(\u001b[38;5;28mself\u001b[39m\u001b[38;5;241m.\u001b[39mn_img):\n\u001b[0;32m--> 180\u001b[0m     \u001b[38;5;28mself\u001b[39m\u001b[38;5;241m.\u001b[39mbeta_all\u001b[38;5;241m.\u001b[39mappend(\u001b[43mBetaFdr\u001b[49m\u001b[43m(\u001b[49m\u001b[38;5;28;43mself\u001b[39;49m\u001b[38;5;241;43m.\u001b[39;49m\u001b[43mrep\u001b[49m\u001b[43m,\u001b[49m\u001b[43m \u001b[49m\u001b[38;5;28;43mself\u001b[39;49m\u001b[38;5;241;43m.\u001b[39;49m\u001b[43mpath\u001b[49m\u001b[43m,\u001b[49m\u001b[43m \u001b[49m\u001b[38;5;28;43mself\u001b[39;49m\u001b[38;5;241;43m.\u001b[39;49m\u001b[43mlr\u001b[49m\u001b[43m,\u001b[49m\u001b[43m \u001b[49m\u001b[38;5;28;43mself\u001b[39;49m\u001b[38;5;241;43m.\u001b[39;49m\u001b[43mlamb\u001b[49m\u001b[43m,\u001b[49m\u001b[43m \u001b[49m\u001b[38;5;28;43mself\u001b[39;49m\u001b[38;5;241;43m.\u001b[39;49m\u001b[43mY\u001b[49m\u001b[43m,\u001b[49m\n\u001b[1;32m    181\u001b[0m \u001b[43m                            \u001b[49m\u001b[43mn_hid\u001b[49m\u001b[38;5;241;43m=\u001b[39;49m\u001b[38;5;28;43mself\u001b[39;49m\u001b[38;5;241;43m.\u001b[39;49m\u001b[43mn_hid\u001b[49m\u001b[43m,\u001b[49m\u001b[43m \u001b[49m\u001b[43mn_hid2\u001b[49m\u001b[38;5;241;43m=\u001b[39;49m\u001b[38;5;28;43mself\u001b[39;49m\u001b[38;5;241;43m.\u001b[39;49m\u001b[43mn_hid2\u001b[49m\u001b[43m,\u001b[49m\u001b[43m \u001b[49m\n\u001b[1;32m    182\u001b[0m \u001b[43m                            \u001b[49m\u001b[43mn_hid3\u001b[49m\u001b[38;5;241;43m=\u001b[39;49m\u001b[38;5;28;43mself\u001b[39;49m\u001b[38;5;241;43m.\u001b[39;49m\u001b[43mn_hid3\u001b[49m\u001b[43m,\u001b[49m\u001b[43m \u001b[49m\u001b[43mn_hid4\u001b[49m\u001b[38;5;241;43m=\u001b[39;49m\u001b[38;5;28;43mself\u001b[39;49m\u001b[38;5;241;43m.\u001b[39;49m\u001b[43mn_hid4\u001b[49m\u001b[43m,\u001b[49m\u001b[43m  \u001b[49m\n\u001b[1;32m    183\u001b[0m \u001b[43m                            \u001b[49m\u001b[43mcoord\u001b[49m\u001b[38;5;241;43m=\u001b[39;49m\u001b[38;5;28;43mself\u001b[39;49m\u001b[38;5;241;43m.\u001b[39;49m\u001b[43mcoord\u001b[49m\u001b[43m,\u001b[49m\u001b[43m \u001b[49m\u001b[43mimgs\u001b[49m\u001b[38;5;241;43m=\u001b[39;49m\u001b[38;5;28;43mself\u001b[39;49m\u001b[38;5;241;43m.\u001b[39;49m\u001b[43mimgs\u001b[49m\u001b[43m,\u001b[49m\u001b[43m \u001b[49m\n\u001b[1;32m    184\u001b[0m \u001b[43m                            \u001b[49m\u001b[43mW\u001b[49m\u001b[38;5;241;43m=\u001b[39;49m\u001b[38;5;28;43mself\u001b[39;49m\u001b[38;5;241;43m.\u001b[39;49m\u001b[43mW\u001b[49m\u001b[43m,\u001b[49m\u001b[43m \u001b[49m\u001b[43mhid_u\u001b[49m\u001b[38;5;241;43m=\u001b[39;49m\u001b[38;5;28;43mself\u001b[39;49m\u001b[38;5;241;43m.\u001b[39;49m\u001b[43mhid_u\u001b[49m\u001b[43m,\u001b[49m\n\u001b[1;32m    185\u001b[0m \u001b[43m                            \u001b[49m\u001b[43mphi\u001b[49m\u001b[38;5;241;43m=\u001b[39;49m\u001b[38;5;28;43mself\u001b[39;49m\u001b[38;5;241;43m.\u001b[39;49m\u001b[43mphi\u001b[49m\u001b[43m,\u001b[49m\u001b[43m \u001b[49m\u001b[43mnb_layer\u001b[49m\u001b[38;5;241;43m=\u001b[39;49m\u001b[38;5;28;43mself\u001b[39;49m\u001b[38;5;241;43m.\u001b[39;49m\u001b[43mnb_layer\u001b[49m\u001b[43m,\u001b[49m\u001b[43m \u001b[49m\n\u001b[1;32m    186\u001b[0m \u001b[43m                            \u001b[49m\u001b[43mn_img\u001b[49m\u001b[38;5;241;43m=\u001b[39;49m\u001b[38;5;28;43mself\u001b[39;49m\u001b[38;5;241;43m.\u001b[39;49m\u001b[43mn_img\u001b[49m\u001b[43m)\u001b[49m\u001b[38;5;241;43m.\u001b[39;49m\u001b[43mbeta_fdr\u001b[49m\u001b[43m(\u001b[49m\u001b[43mi\u001b[49m\u001b[43m)\u001b[49m)\n",
      "File \u001b[0;32m~/BNNSTGP-main/src/notebook/package_bnnstgp1/pkg_bnnstgp1/model/fdr_control2.py:145\u001b[0m, in \u001b[0;36mBetaFdr.beta_fdr\u001b[0;34m(self, idx)\u001b[0m\n\u001b[1;32m    134\u001b[0m     n_knots\u001b[38;5;241m.\u001b[39mappend(\u001b[38;5;28mself\u001b[39m\u001b[38;5;241m.\u001b[39mphi[i]\u001b[38;5;241m.\u001b[39mshape[\u001b[38;5;241m1\u001b[39m])\n\u001b[1;32m    136\u001b[0m net \u001b[38;5;241m=\u001b[39m NeuroNet(reg_init\u001b[38;5;241m=\u001b[39mreg_init, \n\u001b[1;32m    137\u001b[0m                lr \u001b[38;5;241m=\u001b[39m \u001b[38;5;28mself\u001b[39m\u001b[38;5;241m.\u001b[39mlr, lamb \u001b[38;5;241m=\u001b[39m \u001b[38;5;28mself\u001b[39m\u001b[38;5;241m.\u001b[39mlamb, input_dim \u001b[38;5;241m=\u001b[39m input_dim, \n\u001b[1;32m    138\u001b[0m                N_train\u001b[38;5;241m=\u001b[39mn_train, n_hid\u001b[38;5;241m=\u001b[39m\u001b[38;5;28mself\u001b[39m\u001b[38;5;241m.\u001b[39mn_hid, n_hid2\u001b[38;5;241m=\u001b[39m\u001b[38;5;28mself\u001b[39m\u001b[38;5;241m.\u001b[39mn_hid2,\n\u001b[0;32m   (...)\u001b[0m\n\u001b[1;32m    142\u001b[0m                step_decay_epoch \u001b[38;5;241m=\u001b[39m \u001b[38;5;241m200\u001b[39m, step_gamma \u001b[38;5;241m=\u001b[39m \u001b[38;5;241m0.2\u001b[39m, b_prior_sig \u001b[38;5;241m=\u001b[39m \u001b[38;5;28;01mNone\u001b[39;00m,\n\u001b[1;32m    143\u001b[0m                langevin\u001b[38;5;241m=\u001b[39m\u001b[38;5;28;01mFalse\u001b[39;00m)    \n\u001b[0;32m--> 145\u001b[0m checkpoint \u001b[38;5;241m=\u001b[39m \u001b[43mtorch\u001b[49m\u001b[38;5;241;43m.\u001b[39;49m\u001b[43mload\u001b[49m\u001b[43m(\u001b[49m\u001b[43mpath\u001b[49m\u001b[43m)\u001b[49m\n\u001b[1;32m    146\u001b[0m weight_samples \u001b[38;5;241m=\u001b[39m checkpoint[\u001b[38;5;124m'\u001b[39m\u001b[38;5;124mweight_set_samples\u001b[39m\u001b[38;5;124m'\u001b[39m]\n\u001b[1;32m    147\u001b[0m net\u001b[38;5;241m.\u001b[39mload_state_dict(checkpoint[\u001b[38;5;124m'\u001b[39m\u001b[38;5;124mmodel\u001b[39m\u001b[38;5;124m'\u001b[39m])\n",
      "File \u001b[0;32m~/.local/lib/python3.9/site-packages/torch/serialization.py:607\u001b[0m, in \u001b[0;36mload\u001b[0;34m(f, map_location, pickle_module, **pickle_load_args)\u001b[0m\n\u001b[1;32m    605\u001b[0m             opened_file\u001b[38;5;241m.\u001b[39mseek(orig_position)\n\u001b[1;32m    606\u001b[0m             \u001b[38;5;28;01mreturn\u001b[39;00m torch\u001b[38;5;241m.\u001b[39mjit\u001b[38;5;241m.\u001b[39mload(opened_file)\n\u001b[0;32m--> 607\u001b[0m         \u001b[38;5;28;01mreturn\u001b[39;00m \u001b[43m_load\u001b[49m\u001b[43m(\u001b[49m\u001b[43mopened_zipfile\u001b[49m\u001b[43m,\u001b[49m\u001b[43m \u001b[49m\u001b[43mmap_location\u001b[49m\u001b[43m,\u001b[49m\u001b[43m \u001b[49m\u001b[43mpickle_module\u001b[49m\u001b[43m,\u001b[49m\u001b[43m \u001b[49m\u001b[38;5;241;43m*\u001b[39;49m\u001b[38;5;241;43m*\u001b[39;49m\u001b[43mpickle_load_args\u001b[49m\u001b[43m)\u001b[49m\n\u001b[1;32m    608\u001b[0m \u001b[38;5;28;01mreturn\u001b[39;00m _legacy_load(opened_file, map_location, pickle_module, \u001b[38;5;241m*\u001b[39m\u001b[38;5;241m*\u001b[39mpickle_load_args)\n",
      "File \u001b[0;32m~/.local/lib/python3.9/site-packages/torch/serialization.py:882\u001b[0m, in \u001b[0;36m_load\u001b[0;34m(zip_file, map_location, pickle_module, pickle_file, **pickle_load_args)\u001b[0m\n\u001b[1;32m    880\u001b[0m unpickler \u001b[38;5;241m=\u001b[39m UnpicklerWrapper(data_file, \u001b[38;5;241m*\u001b[39m\u001b[38;5;241m*\u001b[39mpickle_load_args)\n\u001b[1;32m    881\u001b[0m unpickler\u001b[38;5;241m.\u001b[39mpersistent_load \u001b[38;5;241m=\u001b[39m persistent_load\n\u001b[0;32m--> 882\u001b[0m result \u001b[38;5;241m=\u001b[39m \u001b[43munpickler\u001b[49m\u001b[38;5;241;43m.\u001b[39;49m\u001b[43mload\u001b[49m\u001b[43m(\u001b[49m\u001b[43m)\u001b[49m\n\u001b[1;32m    884\u001b[0m torch\u001b[38;5;241m.\u001b[39m_utils\u001b[38;5;241m.\u001b[39m_validate_loaded_sparse_tensors()\n\u001b[1;32m    886\u001b[0m \u001b[38;5;28;01mreturn\u001b[39;00m result\n",
      "File \u001b[0;32m~/.local/lib/python3.9/site-packages/torch/serialization.py:857\u001b[0m, in \u001b[0;36m_load.<locals>.persistent_load\u001b[0;34m(saved_id)\u001b[0m\n\u001b[1;32m    855\u001b[0m data_type, key, location, size \u001b[38;5;241m=\u001b[39m data\n\u001b[1;32m    856\u001b[0m \u001b[38;5;28;01mif\u001b[39;00m key \u001b[38;5;129;01mnot\u001b[39;00m \u001b[38;5;129;01min\u001b[39;00m loaded_storages:\n\u001b[0;32m--> 857\u001b[0m     \u001b[43mload_tensor\u001b[49m\u001b[43m(\u001b[49m\u001b[43mdata_type\u001b[49m\u001b[43m,\u001b[49m\u001b[43m \u001b[49m\u001b[43msize\u001b[49m\u001b[43m,\u001b[49m\u001b[43m \u001b[49m\u001b[43mkey\u001b[49m\u001b[43m,\u001b[49m\u001b[43m \u001b[49m\u001b[43m_maybe_decode_ascii\u001b[49m\u001b[43m(\u001b[49m\u001b[43mlocation\u001b[49m\u001b[43m)\u001b[49m\u001b[43m)\u001b[49m\n\u001b[1;32m    858\u001b[0m storage \u001b[38;5;241m=\u001b[39m loaded_storages[key]\n\u001b[1;32m    859\u001b[0m \u001b[38;5;28;01mreturn\u001b[39;00m storage\n",
      "File \u001b[0;32m~/.local/lib/python3.9/site-packages/torch/serialization.py:845\u001b[0m, in \u001b[0;36m_load.<locals>.load_tensor\u001b[0;34m(data_type, size, key, location)\u001b[0m\n\u001b[1;32m    842\u001b[0m name \u001b[38;5;241m=\u001b[39m \u001b[38;5;124mf\u001b[39m\u001b[38;5;124m'\u001b[39m\u001b[38;5;124mdata/\u001b[39m\u001b[38;5;132;01m{\u001b[39;00mkey\u001b[38;5;132;01m}\u001b[39;00m\u001b[38;5;124m'\u001b[39m\n\u001b[1;32m    843\u001b[0m dtype \u001b[38;5;241m=\u001b[39m data_type(\u001b[38;5;241m0\u001b[39m)\u001b[38;5;241m.\u001b[39mdtype\n\u001b[0;32m--> 845\u001b[0m storage \u001b[38;5;241m=\u001b[39m \u001b[43mzip_file\u001b[49m\u001b[38;5;241;43m.\u001b[39;49m\u001b[43mget_storage_from_record\u001b[49m\u001b[43m(\u001b[49m\u001b[43mname\u001b[49m\u001b[43m,\u001b[49m\u001b[43m \u001b[49m\u001b[43msize\u001b[49m\u001b[43m,\u001b[49m\u001b[43m \u001b[49m\u001b[43mdtype\u001b[49m\u001b[43m)\u001b[49m\u001b[38;5;241m.\u001b[39mstorage()\n\u001b[1;32m    846\u001b[0m loaded_storages[key] \u001b[38;5;241m=\u001b[39m restore_location(storage, location)\n",
      "\u001b[0;31mKeyboardInterrupt\u001b[0m: "
     ]
    }
   ],
   "source": [
    "BNN_neuroimg.beta_fdr_control()"
   ]
  },
  {
   "cell_type": "markdown",
   "id": "dd710599-75bf-4af3-ad52-916e51f4843d",
   "metadata": {},
   "source": [
    "## Region Selection"
   ]
  },
  {
   "cell_type": "code",
   "execution_count": 7,
   "id": "0ba5102c-1f40-4535-bd3b-fde2a2653b50",
   "metadata": {},
   "outputs": [
    {
     "ename": "IndexError",
     "evalue": "list index out of range",
     "output_type": "error",
     "traceback": [
      "\u001b[0;31m---------------------------------------------------------------------------\u001b[0m",
      "\u001b[0;31mIndexError\u001b[0m                                Traceback (most recent call last)",
      "Input \u001b[0;32mIn [7]\u001b[0m, in \u001b[0;36m<cell line: 1>\u001b[0;34m()\u001b[0m\n\u001b[0;32m----> 1\u001b[0m \u001b[43mBNN_neuroimg\u001b[49m\u001b[38;5;241;43m.\u001b[39;49m\u001b[43moutput_selected\u001b[49m\u001b[43m(\u001b[49m\u001b[43m)\u001b[49m\n",
      "File \u001b[0;32m~/BNNSTGP-main/src/notebook/package_bnnstgp1/pkg_bnnstgp1/pkg_bnnstgp.py:192\u001b[0m, in \u001b[0;36mBNN_model.output_selected\u001b[0;34m(self)\u001b[0m\n\u001b[1;32m    188\u001b[0m \u001b[38;5;28;01mdef\u001b[39;00m \u001b[38;5;21moutput_selected\u001b[39m(\u001b[38;5;28mself\u001b[39m):\n\u001b[1;32m    189\u001b[0m     \u001b[38;5;28;01mfor\u001b[39;00m i \u001b[38;5;129;01min\u001b[39;00m \u001b[38;5;28mrange\u001b[39m(\u001b[38;5;28mself\u001b[39m\u001b[38;5;241m.\u001b[39mn_img):\n\u001b[1;32m    190\u001b[0m         \u001b[38;5;66;03m# beta_matched = Selection(self.rep, self.path, self.coord[i], self.beta_all[i], self.thred, self.bg_image, self.nii_path, self.n_img).unit_match()\u001b[39;00m\n\u001b[1;32m    191\u001b[0m         \u001b[38;5;66;03m# Selection(self.rep, self.path, self.coord[i], self.beta_all[i], self.thred, self.bg_image, self.nii_path,self.n_img).output_selected_region(beta_matched,i)\u001b[39;00m\n\u001b[0;32m--> 192\u001b[0m         Selection(\u001b[38;5;28mself\u001b[39m\u001b[38;5;241m.\u001b[39mrep, \u001b[38;5;28mself\u001b[39m\u001b[38;5;241m.\u001b[39mpath, \u001b[38;5;28mself\u001b[39m\u001b[38;5;241m.\u001b[39mcoord[i], \u001b[38;5;28;43mself\u001b[39;49m\u001b[38;5;241;43m.\u001b[39;49m\u001b[43mbeta_all\u001b[49m\u001b[43m[\u001b[49m\u001b[43mi\u001b[49m\u001b[43m]\u001b[49m, \u001b[38;5;28mself\u001b[39m\u001b[38;5;241m.\u001b[39mthred, \u001b[38;5;28mself\u001b[39m\u001b[38;5;241m.\u001b[39mbg_image, \u001b[38;5;28mself\u001b[39m\u001b[38;5;241m.\u001b[39mnii_path,\u001b[38;5;28mself\u001b[39m\u001b[38;5;241m.\u001b[39mn_img)\u001b[38;5;241m.\u001b[39moutput_selected_region(\u001b[38;5;28mself\u001b[39m\u001b[38;5;241m.\u001b[39mbeta_all[i],i)\n",
      "\u001b[0;31mIndexError\u001b[0m: list index out of range"
     ]
    }
   ],
   "source": [
    "BNN_neuroimg.output_selected()"
   ]
  },
  {
   "cell_type": "code",
   "execution_count": null,
   "id": "c11c0280-0f9f-40ba-81d3-de763ecc2893",
   "metadata": {},
   "outputs": [],
   "source": []
  }
 ],
 "metadata": {
  "kernelspec": {
   "display_name": "bnnstgp",
   "language": "python",
   "name": "bnnstgp"
  },
  "language_info": {
   "codemirror_mode": {
    "name": "ipython",
    "version": 3
   },
   "file_extension": ".py",
   "mimetype": "text/x-python",
   "name": "python",
   "nbconvert_exporter": "python",
   "pygments_lexer": "ipython3",
   "version": "3.9.13"
  }
 },
 "nbformat": 4,
 "nbformat_minor": 5
}
